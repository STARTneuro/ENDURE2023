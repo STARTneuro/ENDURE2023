{
 "cells": [
  {
   "cell_type": "markdown",
   "id": "e7fc2a34",
   "metadata": {},
   "source": [
    "# Step 1: Import packages"
   ]
  },
  {
   "cell_type": "code",
   "execution_count": null,
   "id": "a4a188d3",
   "metadata": {},
   "outputs": [],
   "source": [
    "# Step 1 -- Import the packages you need: numpy, matplotlib.pyplot\n",
    "\n"
   ]
  },
  {
   "cell_type": "markdown",
   "id": "4be56001",
   "metadata": {},
   "source": [
    "# Step 2: Load data"
   ]
  },
  {
   "cell_type": "code",
   "execution_count": null,
   "id": "83aac474",
   "metadata": {},
   "outputs": [],
   "source": [
    "# Step 2 -- Load data\n",
    "\n",
    "# Update your file names!\n",
    "open_files = ['open_1.txt',...]\n",
    "closed_files = ['closed_1.txt',...]\n",
    "\n",
    "# Define column names\n",
    "columns = ['time', 'recording']\n",
    "sampling_freq = 400\n",
    "\n",
    "open_data = np.array([])\n",
    "closed_data = np.array([])\n",
    "\n",
    "# Define a function to remove nan values\n",
    "def nan_helper(y):\n",
    "    return np.isnan(y), lambda z: z.nonzero()[0]\n",
    "\n",
    "for file in open_files:\n",
    "    this_open_data = np.genfromtxt(file, dtype=float, usecols=(0,1), skip_header=6, delimiter='\\t', names=columns, encoding = 'unicode_escape')\n",
    "    \n",
    "    open_timestamps = this_open_data['time']\n",
    "    open_recording = this_open_data['recording']\n",
    "    nans, x = nan_helper(open_recording)\n",
    "    open_recording[nans]= np.interp(x(nans), x(~nans), open_recording[~nans])\n",
    "\n",
    "    np.concatenate(open_data,open_recording)\n",
    "\n",
    "for file in closed_files:\n",
    "    this_closed_data = np.genfromtxt(file, dtype=float, usecols=(0,1), skip_header=6, delimiter='\\t', names=columns, encoding = 'unicode_escape')\n",
    "    \n",
    "    # Save recording & timestamps as variables\n",
    "    closed_timestamps = this_closed_data['time']\n",
    "    closed_recording = this_closed_data['recording']\n",
    "    nans, x = nan_helper(closed_recording)\n",
    "    closed_recording[nans]= np.interp(x(nans), x(~nans), closed_recording[~nans])\n",
    "\n",
    "    np.concatenate(closed_data,closed_recording)\n",
    "\n",
    "\n",
    "closed_recording"
   ]
  },
  {
   "cell_type": "markdown",
   "id": "b7dc00d2",
   "metadata": {},
   "source": [
    "# Step 3: Plot raw data"
   ]
  },
  {
   "cell_type": "code",
   "execution_count": null,
   "id": "e5681767",
   "metadata": {},
   "outputs": [],
   "source": [
    "# Step 3A -- Plot one trial of open data\n",
    "\n",
    "# Set up figure\n",
    "fig,ax = plt.subplots(figsize=(10,4))\n",
    "\n",
    "# Change the variables below if you'd like to plot eyes open instead\n",
    "plt.plot(closed_timestamps,closed_recording)\n",
    "\n",
    "# You may need to change the x label!\n",
    "plt.xlabel('') \n",
    "\n",
    "# You may need to change the y label!\n",
    "plt.ylabel('')\n",
    "\n",
    "# You can uncomment the line below to restrict the x axis plotting -- for example, to zoom into alpha waves\n",
    "#plt.xlim([45,50])\n",
    "\n",
    "plt.show()"
   ]
  },
  {
   "cell_type": "code",
   "execution_count": null,
   "id": "b2583670",
   "metadata": {},
   "outputs": [],
   "source": [
    "# Step 3B -- Closed data plot\n",
    "\n"
   ]
  },
  {
   "cell_type": "markdown",
   "id": "55e0da5e",
   "metadata": {},
   "source": [
    "# Step 4: PSD"
   ]
  },
  {
   "cell_type": "code",
   "execution_count": null,
   "id": "54e4b0aa",
   "metadata": {},
   "outputs": [],
   "source": [
    "from scipy import signal\n",
    "\n",
    "# Define sliding window length (4 seconds, which will give us 2 full cycles at 0.5 Hz)\n",
    "win = 4 * sampling_freq\n",
    "freqs, psd = signal.welch(closed_recording, sampling_freq, nperseg=win)\n",
    "\n",
    "# Plot the power spectrum\n",
    "plt.figure(figsize=(8, 6))\n",
    "plt.plot(freqs, psd)\n",
    "\n",
    "# Uncomment the lines below to plot two lines\n",
    "#open_freqs, open_psd = signal.welch(open_recording, sampling_freq, nperseg=win)\n",
    "#plt.plot(open_freqs, open_psd)\n",
    "#plt.legend(['Closed','Open'])\n",
    "\n",
    "plt.xlabel('Frequency (Hz)')\n",
    "plt.ylabel('Power spectral density (pV^2 / Hz)') # Check that these units make sense!\n",
    "#plt.xlim([0,75]) # Change x limit\n",
    "\n",
    "plt.title(\"Welch's PSD\")\n",
    "plt.show()"
   ]
  },
  {
   "cell_type": "markdown",
   "id": "6bdcb8f8",
   "metadata": {},
   "source": [
    "# Step 5: Spectrogram"
   ]
  },
  {
   "cell_type": "code",
   "execution_count": null,
   "id": "8f151d04",
   "metadata": {},
   "outputs": [],
   "source": [
    "max = 20 # change the max value on your spectogram -- you may need to adjust this\n",
    "\n",
    "wind = np.hanning(1024) # Create a \"hanning\" window with a given binning window size\n",
    "\n",
    "# Create the spectrogram and plot\n",
    "fig = plt.figure() \n",
    "\n",
    "# Change closed to open below to generate for open\n",
    "f, tt, Sxx = signal.spectrogram(closed_recording,sampling_freq,wind,len(wind),len(wind)-1)\n",
    "\n",
    "# You can change cmap & vmax if you want\n",
    "plt.pcolormesh(tt,f,Sxx,cmap='viridis',vmax=vmax)\n",
    "plt.ylabel('Frequency (Hz)')\n",
    "plt.xlabel('Time (sec)')\n",
    "# plt.ylim([0,75]) # set the ylimit\n",
    "cbar = plt.colorbar()\n",
    "cbar.ax.set_ylabel('Power ($V^2$)')\n",
    "plt.show()"
   ]
  }
 ],
 "metadata": {
  "kernelspec": {
   "display_name": "Python 3",
   "language": "python",
   "name": "python3"
  },
  "language_info": {
   "codemirror_mode": {
    "name": "ipython",
    "version": 3
   },
   "file_extension": ".py",
   "mimetype": "text/x-python",
   "name": "python",
   "nbconvert_exporter": "python",
   "pygments_lexer": "ipython3",
   "version": "3.7.3"
  }
 },
 "nbformat": 4,
 "nbformat_minor": 5
}
